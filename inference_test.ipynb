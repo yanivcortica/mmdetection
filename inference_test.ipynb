{
 "cells": [
  {
   "cell_type": "code",
   "execution_count": 10,
   "metadata": {},
   "outputs": [
    {
     "ename": "ModuleNotFoundError",
     "evalue": "No module named 'mmcv'",
     "output_type": "error",
     "traceback": [
      "\u001b[0;31m---------------------------------------------------------------------------\u001b[0m",
      "\u001b[0;31mModuleNotFoundError\u001b[0m                       Traceback (most recent call last)",
      "Cell \u001b[0;32mIn[10], line 2\u001b[0m\n\u001b[1;32m      1\u001b[0m \u001b[39mimport\u001b[39;00m \u001b[39mcv2\u001b[39;00m\n\u001b[0;32m----> 2\u001b[0m \u001b[39mimport\u001b[39;00m \u001b[39mmmcv\u001b[39;00m\n\u001b[1;32m      3\u001b[0m \u001b[39mimport\u001b[39;00m \u001b[39mos\u001b[39;00m\n\u001b[1;32m      4\u001b[0m \u001b[39mimport\u001b[39;00m \u001b[39mnumpy\u001b[39;00m \u001b[39mas\u001b[39;00m \u001b[39mnp\u001b[39;00m\n",
      "\u001b[0;31mModuleNotFoundError\u001b[0m: No module named 'mmcv'"
     ]
    }
   ],
   "source": [
    "import cv2\n",
    "import mmcv\n",
    "import os\n",
    "import numpy as np\n",
    "from mmcv.transforms import Compose\n",
    "from mmengine.utils import track_iter_progress\n",
    "from mmdet.registry import VISUALIZERS\n",
    "from mmdet.apis import init_detector, inference_detector\n",
    "from tqdm import tqdm"
   ]
  },
  {
   "cell_type": "code",
   "execution_count": null,
   "metadata": {},
   "outputs": [],
   "source": []
  },
  {
   "cell_type": "code",
   "execution_count": 3,
   "metadata": {},
   "outputs": [],
   "source": [
    "im_path = '/home/yaniv.sheinfeld/data/TEST_SET_6.6.6/201/images/20221124_082931_791875_201_ok.jpg'\n",
    "def get_gt(filename):\n",
    "    #if filename ends with ng then it is a positive sample\n",
    "    #if filename ends with ok then it is a negative sample\n",
    "    if filename.endswith('ng.jpg'):\n",
    "        return 1\n",
    "    elif filename.endswith('ok.jpg'):\n",
    "        return 0\n",
    "\n",
    "def get_tp_fp_tn_fn(pred, gt):\n",
    "    if pred == 1 and gt == 1:\n",
    "        return 1, 0, 0, 0\n",
    "    elif pred == 1 and gt == 0:\n",
    "        return 0, 1, 0, 0\n",
    "    elif pred == 0 and gt == 0:\n",
    "        return 0, 0, 1, 0\n",
    "    elif pred == 0 and gt == 1:\n",
    "        return 0, 0, 0, 1\n",
    "    else:\n",
    "        raise Exception('invalid input')\n",
    "    return tp, fp, tn, fn\n",
    "    "
   ]
  },
  {
   "cell_type": "code",
   "execution_count": 4,
   "metadata": {},
   "outputs": [
    {
     "ename": "NameError",
     "evalue": "name 'np' is not defined",
     "output_type": "error",
     "traceback": [
      "\u001b[0;31m---------------------------------------------------------------------------\u001b[0m",
      "\u001b[0;31mNameError\u001b[0m                                 Traceback (most recent call last)",
      "Cell \u001b[0;32mIn[4], line 16\u001b[0m\n\u001b[1;32m      4\u001b[0m test_path \u001b[39m=\u001b[39m \u001b[39m'\u001b[39m\u001b[39m/home/yaniv.sheinfeld/data/TEST_SET_6.6.6/201/images\u001b[39m\u001b[39m'\u001b[39m\n\u001b[1;32m      5\u001b[0m \u001b[39m#build the model from a config file and a checkpoint file\u001b[39;00m\n\u001b[1;32m      6\u001b[0m \u001b[39m#model = init_detector(config_file, checkpoint_file, device='cuda:0')\u001b[39;00m\n\u001b[1;32m      7\u001b[0m \n\u001b[0;32m   (...)\u001b[0m\n\u001b[1;32m     14\u001b[0m \u001b[39m#im_path = '/home/yaniv.sheinfeld/data/TEST_SET_6.6.6/201/images/20221124_082931_791875_201_ng.jpg'\u001b[39;00m\n\u001b[1;32m     15\u001b[0m \u001b[39m#result = inference_detector(model, im_path)\u001b[39;00m\n\u001b[0;32m---> 16\u001b[0m thresholds \u001b[39m=\u001b[39m np\u001b[39m.\u001b[39marange(\u001b[39m0.1\u001b[39m, \u001b[39m0.5\u001b[39m, \u001b[39m0.1\u001b[39m)\n\u001b[1;32m     17\u001b[0m \u001b[39m#for each threshold, calculate Detection Rate and False Positive Rate on all images in test_path\u001b[39;00m\n\u001b[1;32m     18\u001b[0m \u001b[39mfor\u001b[39;00m epoch \u001b[39min\u001b[39;00m \u001b[39mrange\u001b[39m(\u001b[39m1\u001b[39m,\u001b[39m21\u001b[39m):\n",
      "\u001b[0;31mNameError\u001b[0m: name 'np' is not defined"
     ]
    }
   ],
   "source": [
    "# Specify the path to model config and checkpoint file\n",
    "config_file = 'configs/je/mask-rcnn_r50-caffe_fpn_ms-poly-1x_coco_je.py'\n",
    "#checkpoint_file = 'work_dirs/mask-rcnn_r50-caffe_fpn_ms-poly-1x_coco_je/epoch_1.pth'\n",
    "test_path = '/home/yaniv.sheinfeld/data/TEST_SET_6.6.6/201/images'\n",
    "#build the model from a config file and a checkpoint file\n",
    "#model = init_detector(config_file, checkpoint_file, device='cuda:0')\n",
    "\n",
    "#init visualizer\n",
    "#visualizer = VISUALIZERS.build(model.cfg.visualizer)\n",
    "\n",
    "#the dataset_meta is loaded from the checkpoint file and then pass to the model in init_detector\n",
    "#visualizer.dataset_meta = model.dataset_meta\n",
    "\n",
    "#im_path = '/home/yaniv.sheinfeld/data/TEST_SET_6.6.6/201/images/20221124_082931_791875_201_ng.jpg'\n",
    "#result = inference_detector(model, im_path)\n",
    "thresholds = np.arange(0.1, 0.5, 0.1)\n",
    "#for each threshold, calculate Detection Rate and False Positive Rate on all images in test_path\n",
    "for epoch in range(1,21):\n",
    "    checkpoint_file = f'work_dirs/mask-rcnn_r50-caffe_fpn_ms-poly-1x_coco_je/epoch_{epoch}.pth'\n",
    "    model = init_detector(config_file, checkpoint_file, device='cuda:0')\n",
    "    for threshold in thresholds:\n",
    "        print(f'epoch: {epoch}, threshold: {threshold}')\n",
    "        #init counters\n",
    "        TP = 0\n",
    "        FP = 0\n",
    "        TN = 0\n",
    "        FN = 0\n",
    "        #for each image in test_path\n",
    "        for im in tqdm(os.listdir(test_path), desc='test'):\n",
    "            #inference\n",
    "            im_path = os.path.join(test_path, im)\n",
    "            result = inference_detector(model, im_path)\n",
    "            pred = any(result.pred_instances.scores > threshold)\n",
    "            #get the ground truth from the image path\n",
    "            gt = get_gt(im_path)\n",
    "            #calculate the number of true positives, false positives and false negatives\n",
    "            tp, fp, tn, fn = get_tp_fp_tn_fn(pred, gt)\n",
    "            TP += tp\n",
    "            FP += fp\n",
    "            TN += tn\n",
    "            FN += fn\n",
    "        #calculate Detection Rate and False Positive Rate\n",
    "        DR = TP / (TP + FN)\n",
    "        FPR = FP / (FP + TN)\n",
    "        print('DR: ', DR)\n",
    "        print('FPR: ', FPR)\n",
    "        print('')\n"
   ]
  },
  {
   "cell_type": "code",
   "execution_count": 8,
   "metadata": {},
   "outputs": [
    {
     "name": "stdout",
     "output_type": "stream",
     "text": [
      "Loads checkpoint by local backend from path: work_dirs/mask-rcnn_r50-caffe_fpn_ms-poly-1x_coco_je/epoch_13.pth\n",
      "06/07 13:10:32 - mmengine - \u001b[5m\u001b[4m\u001b[33mWARNING\u001b[0m - `Visualizer` backend is not initialized because save_dir is None.\n"
     ]
    },
    {
     "name": "stderr",
     "output_type": "stream",
     "text": [
      "test: 100%|██████████| 926/926 [04:10<00:00,  3.70it/s]\n"
     ]
    }
   ],
   "source": [
    "epoch_13_path = 'work_dirs/mask-rcnn_r50-caffe_fpn_ms-poly-1x_coco_je/epoch_13.pth'\n",
    "th = 0.4\n",
    "model = init_detector(config_file, checkpoint_file, device='cuda:0')\n",
    "test_path = '/home/yaniv.sheinfeld/data/TEST_SET_6.6.6/101/images'\n",
    "FN_folder = '/home/yaniv.sheinfeld/data/test_results/FN'\n",
    "FP_folder = '/home/yaniv.sheinfeld/data/test_results/FP'\n",
    "\n",
    "#init visualizer\n",
    "visualizer = VISUALIZERS.build(model.cfg.visualizer)\n",
    "\n",
    "#the dataset_meta is loaded from the checkpoint file and then pass to the model in init_detector\n",
    "visualizer.dataset_meta = model.dataset_meta\n",
    "\n",
    "#im_path = '/home/yaniv.sheinfeld/data/TEST_SET_6.6.6/201/images/20221124_082931_791875_201_ng.jpg'\n",
    "for im in tqdm(os.listdir(test_path), desc='test'):\n",
    "    #inference\n",
    "    im_path = os.path.join(test_path, im)\n",
    "    result = inference_detector(model, im_path)\n",
    "    pred = any(result.pred_instances.scores > th)\n",
    "    #get the ground truth from the image path\n",
    "    gt = get_gt(im_path)\n",
    "    #calculate the number of true positives, false positives and false negatives\n",
    "    tp, fp, tn, fn = get_tp_fp_tn_fn(pred, gt)\n",
    "    if fp:\n",
    "        img = mmcv.imread(im_path)\n",
    "        visualizer.add_datasample(f'{im}',img,data_sample = result,out_file = os.path.join(FP_folder, im),pred_score_thr = th)\n",
    "    if fn:\n",
    "        img = mmcv.imread(im_path)\n",
    "        visualizer.add_datasample(f'{im}',img,data_sample = result,out_file = os.path.join(FN_folder, im),pred_score_thr = th)\n",
    "    "
   ]
  }
 ],
 "metadata": {
  "kernelspec": {
   "display_name": "venv_mm",
   "language": "python",
   "name": "python3"
  },
  "language_info": {
   "codemirror_mode": {
    "name": "ipython",
    "version": 3
   },
   "file_extension": ".py",
   "mimetype": "text/x-python",
   "name": "python",
   "nbconvert_exporter": "python",
   "pygments_lexer": "ipython3",
   "version": "3.8.10"
  },
  "orig_nbformat": 4
 },
 "nbformat": 4,
 "nbformat_minor": 2
}
