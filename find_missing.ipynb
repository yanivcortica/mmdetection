{
 "cells": [
  {
   "cell_type": "code",
   "execution_count": 4,
   "metadata": {},
   "outputs": [
    {
     "name": "stderr",
     "output_type": "stream",
     "text": [
      "Processing images: 100%|██████████| 11906/11906 [00:00<00:00, 385804.55it/s]"
     ]
    },
    {
     "name": "stdout",
     "output_type": "stream",
     "text": [
      "/home/yaniv.sheinfeld/data/je/train2017/20230425_094841_434872_701_ng.jpg\n"
     ]
    },
    {
     "name": "stderr",
     "output_type": "stream",
     "text": [
      "\n"
     ]
    }
   ],
   "source": [
    "import json\n",
    "import os\n",
    "from tqdm import tqdm\n",
    "json_path = '/home/yaniv.sheinfeld/data/je/annotations/instances_train2017.json'\n",
    "img_path = '/home/yaniv.sheinfeld/data/je/train2017/'\n",
    "#iterate json\n",
    "with open(json_path) as f:\n",
    "    data = json.load(f)\n",
    "    for img in tqdm(data['images'], desc=\"Processing images\"):\n",
    "        img_name = img['file_name']\n",
    "        img_id = img['id']\n",
    "        img_file_path = os.path.join(img_path, img_name)\n",
    "        if not os.path.exists(img_file_path):\n",
    "            print(img_file_path)"
   ]
  }
 ],
 "metadata": {
  "kernelspec": {
   "display_name": "venv_mm",
   "language": "python",
   "name": "python3"
  },
  "language_info": {
   "codemirror_mode": {
    "name": "ipython",
    "version": 3
   },
   "file_extension": ".py",
   "mimetype": "text/x-python",
   "name": "python",
   "nbconvert_exporter": "python",
   "pygments_lexer": "ipython3",
   "version": "3.8.10"
  },
  "orig_nbformat": 4
 },
 "nbformat": 4,
 "nbformat_minor": 2
}
