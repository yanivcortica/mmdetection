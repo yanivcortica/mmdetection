{
 "cells": [
  {
   "cell_type": "code",
   "execution_count": 1,
   "metadata": {},
   "outputs": [
    {
     "name": "stdout",
     "output_type": "stream",
     "text": [
      "chip\n",
      "crack\n",
      "grinding\n",
      "contamination\n",
      "dent\n",
      "sticky\n"
     ]
    }
   ],
   "source": [
    "import json\n",
    "\n",
    "def get_classes_from_coco_json(json_path):\n",
    "    with open(json_path, 'r') as file:\n",
    "        coco_data = json.load(file)\n",
    "\n",
    "    categories = coco_data['categories']\n",
    "    class_labels = [category['name'] for category in categories]\n",
    "    \n",
    "    return class_labels\n",
    "\n",
    "# Replace 'path_to_coco_json' with the actual path to your COCO JSON file\n",
    "coco_json_path = '/home/yaniv.sheinfeld/data/je/annotations/instances_train2017.json'\n",
    "class_labels = get_classes_from_coco_json(coco_json_path)\n",
    "\n",
    "# Print the class labels\n",
    "for label in class_labels:\n",
    "    print(label)"
   ]
  },
  {
   "cell_type": "code",
   "execution_count": 6,
   "metadata": {},
   "outputs": [
    {
     "name": "stderr",
     "output_type": "stream",
     "text": [
      "Calculating Standard Deviation: 100%|██████████| 13053/13053 [03:06<00:00, 70.10it/s]"
     ]
    },
    {
     "name": "stdout",
     "output_type": "stream",
     "text": [
      "42.92271917776942\n"
     ]
    },
    {
     "name": "stderr",
     "output_type": "stream",
     "text": [
      "\n"
     ]
    }
   ],
   "source": [
    "import cv2\n",
    "import numpy as np\n",
    "import os\n",
    "from tqdm import tqdm\n",
    "import concurrent.futures\n",
    "import math\n",
    "\n",
    "def calculate_dataset_std(image_folder):\n",
    "    file_list = os.listdir(image_folder)\n",
    "    mean_values = []\n",
    "    std_values = []\n",
    "\n",
    "    with tqdm(total=len(file_list), desc='Calculating Standard Deviation') as pbar:\n",
    "        for file_name in file_list:\n",
    "            image_path = os.path.join(image_folder, file_name)\n",
    "            image = cv2.imread(image_path, cv2.IMREAD_GRAYSCALE)\n",
    "            #image = image.astype(float) / 255.0  # Normalize pixel values to [0, 1]\n",
    "\n",
    "            mean = np.mean(image)\n",
    "            std = np.std(image)\n",
    "\n",
    "            mean_values.append(mean)\n",
    "            std_values.append(std)\n",
    "\n",
    "            pbar.update(1)\n",
    "\n",
    "    mean_values = np.array(mean_values)\n",
    "    std_values = np.array(std_values)\n",
    "\n",
    "    mean = np.mean(mean_values)\n",
    "    std = np.mean(std_values)\n",
    "\n",
    "    return std\n",
    "\n",
    "print(calculate_dataset_std('/home/yaniv.sheinfeld/data/je/train2017/'))"
   ]
  },
  {
   "cell_type": "code",
   "execution_count": 9,
   "metadata": {},
   "outputs": [
    {
     "name": "stderr",
     "output_type": "stream",
     "text": [
      "Calculating mean: 100%|██████████| 13053/13053 [00:50<00:00, 257.78it/s]"
     ]
    },
    {
     "name": "stdout",
     "output_type": "stream",
     "text": [
      "64.34243205922937 42.92271917776942\n"
     ]
    },
    {
     "name": "stderr",
     "output_type": "stream",
     "text": [
      "\n"
     ]
    }
   ],
   "source": [
    "import os\n",
    "import cv2\n",
    "import numpy as np\n",
    "from tqdm import tqdm\n",
    "from multiprocessing import Pool\n",
    "\n",
    "def read_and_get_mean_and_std(img_path):\n",
    "    img = cv2.imread(img_path, cv2.IMREAD_GRAYSCALE)\n",
    "    return np.mean(img), np.std(img)\n",
    "\n",
    "def calc_mean(imgs_path, num_processes=8):\n",
    "    img_list = [os.path.join(imgs_path, img) for img in os.listdir(imgs_path)]\n",
    "    with Pool(num_processes) as p:\n",
    "        results = list(tqdm(p.imap(read_and_get_mean_and_std, img_list), total=len(img_list), desc=\"Calculating mean\"))\n",
    "    # Filter out any failures from imread\n",
    "    means,stds = list(zip(*[result for result in results if result is not None]))\n",
    "    if not means:\n",
    "        raise ValueError(\"No images could be read from the directory\")\n",
    "    means = np.array(means)\n",
    "    stds = np.array(stds)\n",
    "    return np.mean(means), np.mean(stds)\n",
    "\n",
    "imgs_path = '/home/yaniv.sheinfeld/data/je/train2017'\n",
    "mean, std = calc_mean(imgs_path)\n",
    "print(mean, std)\n"
   ]
  }
 ],
 "metadata": {
  "kernelspec": {
   "display_name": "venv_mm",
   "language": "python",
   "name": "python3"
  },
  "language_info": {
   "codemirror_mode": {
    "name": "ipython",
    "version": 3
   },
   "file_extension": ".py",
   "mimetype": "text/x-python",
   "name": "python",
   "nbconvert_exporter": "python",
   "pygments_lexer": "ipython3",
   "version": "3.8.10"
  },
  "orig_nbformat": 4
 },
 "nbformat": 4,
 "nbformat_minor": 2
}
