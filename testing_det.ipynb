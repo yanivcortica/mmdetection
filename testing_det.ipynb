{
 "cells": [
  {
   "cell_type": "code",
   "execution_count": 1,
   "metadata": {},
   "outputs": [
    {
     "name": "stderr",
     "output_type": "stream",
     "text": [
      "/home/yaniv.sheinfeld/.pyenv/versions/3.9.4/envs/venv39/lib/python3.9/site-packages/tqdm/auto.py:21: TqdmWarning: IProgress not found. Please update jupyter and ipywidgets. See https://ipywidgets.readthedocs.io/en/stable/user_install.html\n",
      "  from .autonotebook import tqdm as notebook_tqdm\n"
     ]
    }
   ],
   "source": [
    "import cv2\n",
    "import mmcv\n",
    "import os\n",
    "import numpy as np\n",
    "from mmcv.transforms import Compose\n",
    "from mmengine.utils import track_iter_progress\n",
    "from mmdet.registry import VISUALIZERS\n",
    "from mmdet.apis import init_detector, inference_detector\n",
    "from tqdm import tqdm"
   ]
  },
  {
   "cell_type": "code",
   "execution_count": 2,
   "metadata": {},
   "outputs": [],
   "source": [
    "def get_gt(filename):\n",
    "    #if filename ends with ng then it is a positive sample\n",
    "    #if filename ends with ok then it is a negative sample\n",
    "    if filename.endswith('ng.jpg'):\n",
    "        return 1\n",
    "    elif filename.endswith('ok.jpg'):\n",
    "        return 0\n",
    "\n",
    "def get_tp_fp_tn_fn(pred, gt):\n",
    "    if pred == 1 and gt == 1:\n",
    "        return 1, 0, 0, 0\n",
    "    elif pred == 1 and gt == 0:\n",
    "        return 0, 1, 0, 0\n",
    "    elif pred == 0 and gt == 0:\n",
    "        return 0, 0, 1, 0\n",
    "    elif pred == 0 and gt == 1:\n",
    "        return 0, 0, 0, 1\n",
    "    else:\n",
    "        raise Exception('invalid input')"
   ]
  },
  {
   "cell_type": "code",
   "execution_count": 23,
   "metadata": {},
   "outputs": [
    {
     "name": "stderr",
     "output_type": "stream",
     "text": [
      "100%|██████████| 873/873 [00:09<00:00, 87.53it/s]\n"
     ]
    },
    {
     "name": "stdout",
     "output_type": "stream",
     "text": [
      "Loads checkpoint by local backend from path: work_dirs/mask-rcnn_r50-caffe_fpn_ms-poly-1x_coco_je/epoch_6.pth\n",
      "epoch: 6, threshold: 0.1\n"
     ]
    },
    {
     "ename": "AttributeError",
     "evalue": "'list' object has no attribute 'pred_instances'",
     "output_type": "error",
     "traceback": [
      "\u001b[0;31m---------------------------------------------------------------------------\u001b[0m",
      "\u001b[0;31mAttributeError\u001b[0m                            Traceback (most recent call last)",
      "Cell \u001b[0;32mIn[23], line 30\u001b[0m\n\u001b[1;32m     28\u001b[0m \u001b[39m#for each image in test_path\u001b[39;00m\n\u001b[1;32m     29\u001b[0m result \u001b[39m=\u001b[39m inference_detector(model, imgs_list)\n\u001b[0;32m---> 30\u001b[0m pred \u001b[39m=\u001b[39m \u001b[39many\u001b[39m(result\u001b[39m.\u001b[39;49mpred_instances\u001b[39m.\u001b[39mscores \u001b[39m>\u001b[39m threshold)\n",
      "\u001b[0;31mAttributeError\u001b[0m: 'list' object has no attribute 'pred_instances'"
     ]
    }
   ],
   "source": [
    "config_file = 'configs/je/mask-rcnn_r50-caffe_fpn_ms-poly-1x_coco_je.py'\n",
    "#checkpoint_file = 'work_dirs/mask-rcnn_r50-caffe_fpn_ms-poly-1x_coco_je/epoch_1.pth'\n",
    "test_path = '/home/yaniv.sheinfeld/data/TEST_SET_6.6.6/201/images'\n",
    "#build the model from a config file and a checkpoint file\n",
    "#model = init_detector(config_file, checkpoint_file, device='cuda:0')\n",
    "\n",
    "imgs_list = []\n",
    "im_paths = [os.path.join(test_path, im) for im in os.listdir(test_path)]    \n",
    "thresholds = np.arange(0.1, 1.0, 0.1)\n",
    "#for each threshold, calculate Detection Rate and False Positive Rate on all images in test_path\n",
    "for epoch in range(1,31):\n",
    "    checkpoint_file = f'work_dirs/mask-rcnn_r50-caffe_fpn_ms-poly-1x_coco_je/epoch_{epoch}.pth'\n",
    "    model = init_detector(config_file, checkpoint_file, device='cuda:0')\n",
    "    for threshold in thresholds:\n",
    "        print(f'epoch: {epoch}, threshold: {threshold}')\n",
    "        #init counters\n",
    "        TP = 0\n",
    "        FP = 0\n",
    "        TN = 0\n",
    "        FN = 0\n",
    "        \n",
    "        results = inference_detector(model, im_paths)\n",
    "        pred = any(result.pred_instances.scores > threshold)\n",
    "        #get the ground truth from the image path\n",
    "        gt = get_gt(im_path)\n",
    "        #calculate the number of true positives, false positives and false negatives\n",
    "        tp, fp, tn, fn = get_tp_fp_tn_fn(pred, gt)\n",
    "        TP += tp\n",
    "        FP += fp\n",
    "        TN += tn\n",
    "        FN += fn\n",
    "        #calculate Detection Rate and False Positive Rate\n",
    "        DR = TP / (TP + FN)\n",
    "        FPR = FP / (FP + TN)\n",
    "        print('DR: ', DR)\n",
    "        print('FPR: ', FPR)\n",
    "        print('')\n",
    "        if DR < 0.95:\n",
    "            break"
   ]
  },
  {
   "cell_type": "code",
   "execution_count": 24,
   "metadata": {},
   "outputs": [
    {
     "name": "stdout",
     "output_type": "stream",
     "text": [
      "Loads checkpoint by local backend from path: work_dirs/mask-rcnn_r50-caffe_fpn_ms-poly-1x_coco_je/epoch_6.pth\n",
      "epoch: 6, threshold: 0.1\n"
     ]
    },
    {
     "name": "stderr",
     "output_type": "stream",
     "text": [
      "test: 100%|██████████| 873/873 [00:58<00:00, 14.82it/s]\n"
     ]
    },
    {
     "name": "stdout",
     "output_type": "stream",
     "text": [
      "DR:  0.9939393939393939\n",
      "FPR:  0.559322033898305\n",
      "\n",
      "epoch: 6, threshold: 0.2\n"
     ]
    },
    {
     "name": "stderr",
     "output_type": "stream",
     "text": [
      "test: 100%|██████████| 873/873 [00:59<00:00, 14.75it/s]\n"
     ]
    },
    {
     "name": "stdout",
     "output_type": "stream",
     "text": [
      "DR:  0.9454545454545454\n",
      "FPR:  0.3432203389830508\n",
      "\n",
      "Loads checkpoint by local backend from path: work_dirs/mask-rcnn_r50-caffe_fpn_ms-poly-1x_coco_je/epoch_7.pth\n",
      "epoch: 7, threshold: 0.1\n"
     ]
    },
    {
     "name": "stderr",
     "output_type": "stream",
     "text": [
      "test: 100%|██████████| 873/873 [00:59<00:00, 14.67it/s]\n"
     ]
    },
    {
     "name": "stdout",
     "output_type": "stream",
     "text": [
      "DR:  0.9818181818181818\n",
      "FPR:  0.5353107344632768\n",
      "\n",
      "epoch: 7, threshold: 0.2\n"
     ]
    },
    {
     "name": "stderr",
     "output_type": "stream",
     "text": [
      "test: 100%|██████████| 873/873 [00:59<00:00, 14.70it/s]\n"
     ]
    },
    {
     "name": "stdout",
     "output_type": "stream",
     "text": [
      "DR:  0.9333333333333333\n",
      "FPR:  0.3545197740112994\n",
      "\n",
      "Loads checkpoint by local backend from path: work_dirs/mask-rcnn_r50-caffe_fpn_ms-poly-1x_coco_je/epoch_8.pth\n",
      "epoch: 8, threshold: 0.1\n"
     ]
    },
    {
     "name": "stderr",
     "output_type": "stream",
     "text": [
      "test: 100%|██████████| 873/873 [00:59<00:00, 14.57it/s]\n"
     ]
    },
    {
     "name": "stdout",
     "output_type": "stream",
     "text": [
      "DR:  0.9757575757575757\n",
      "FPR:  0.6073446327683616\n",
      "\n",
      "epoch: 8, threshold: 0.2\n"
     ]
    },
    {
     "name": "stderr",
     "output_type": "stream",
     "text": [
      "test: 100%|██████████| 873/873 [00:59<00:00, 14.58it/s]\n"
     ]
    },
    {
     "name": "stdout",
     "output_type": "stream",
     "text": [
      "DR:  0.9575757575757575\n",
      "FPR:  0.4194915254237288\n",
      "\n",
      "epoch: 8, threshold: 0.30000000000000004\n"
     ]
    },
    {
     "name": "stderr",
     "output_type": "stream",
     "text": [
      "test: 100%|██████████| 873/873 [00:59<00:00, 14.59it/s]\n"
     ]
    },
    {
     "name": "stdout",
     "output_type": "stream",
     "text": [
      "DR:  0.9333333333333333\n",
      "FPR:  0.3375706214689266\n",
      "\n",
      "Loads checkpoint by local backend from path: work_dirs/mask-rcnn_r50-caffe_fpn_ms-poly-1x_coco_je/epoch_9.pth\n",
      "epoch: 9, threshold: 0.1\n"
     ]
    },
    {
     "name": "stderr",
     "output_type": "stream",
     "text": [
      "test: 100%|██████████| 873/873 [00:59<00:00, 14.68it/s]\n"
     ]
    },
    {
     "name": "stdout",
     "output_type": "stream",
     "text": [
      "DR:  0.9818181818181818\n",
      "FPR:  0.5819209039548022\n",
      "\n",
      "epoch: 9, threshold: 0.2\n"
     ]
    },
    {
     "name": "stderr",
     "output_type": "stream",
     "text": [
      "test: 100%|██████████| 873/873 [00:59<00:00, 14.71it/s]\n"
     ]
    },
    {
     "name": "stdout",
     "output_type": "stream",
     "text": [
      "DR:  0.9636363636363636\n",
      "FPR:  0.4138418079096045\n",
      "\n",
      "epoch: 9, threshold: 0.30000000000000004\n"
     ]
    },
    {
     "name": "stderr",
     "output_type": "stream",
     "text": [
      "test: 100%|██████████| 873/873 [01:08<00:00, 12.70it/s]\n"
     ]
    },
    {
     "name": "stdout",
     "output_type": "stream",
     "text": [
      "DR:  0.9333333333333333\n",
      "FPR:  0.3361581920903955\n",
      "\n",
      "Loads checkpoint by local backend from path: work_dirs/mask-rcnn_r50-caffe_fpn_ms-poly-1x_coco_je/epoch_10.pth\n",
      "epoch: 10, threshold: 0.1\n"
     ]
    },
    {
     "name": "stderr",
     "output_type": "stream",
     "text": [
      "test: 100%|██████████| 873/873 [00:59<00:00, 14.67it/s]\n"
     ]
    },
    {
     "name": "stdout",
     "output_type": "stream",
     "text": [
      "DR:  0.9939393939393939\n",
      "FPR:  0.6129943502824858\n",
      "\n",
      "epoch: 10, threshold: 0.2\n"
     ]
    },
    {
     "name": "stderr",
     "output_type": "stream",
     "text": [
      "test: 100%|██████████| 873/873 [01:06<00:00, 13.10it/s]\n"
     ]
    },
    {
     "name": "stdout",
     "output_type": "stream",
     "text": [
      "DR:  0.9636363636363636\n",
      "FPR:  0.4519774011299435\n",
      "\n",
      "epoch: 10, threshold: 0.30000000000000004\n"
     ]
    },
    {
     "name": "stderr",
     "output_type": "stream",
     "text": [
      "test: 100%|██████████| 873/873 [01:02<00:00, 13.91it/s]\n"
     ]
    },
    {
     "name": "stdout",
     "output_type": "stream",
     "text": [
      "DR:  0.9454545454545454\n",
      "FPR:  0.3601694915254237\n",
      "\n",
      "Loads checkpoint by local backend from path: work_dirs/mask-rcnn_r50-caffe_fpn_ms-poly-1x_coco_je/epoch_11.pth\n",
      "epoch: 11, threshold: 0.1\n"
     ]
    },
    {
     "name": "stderr",
     "output_type": "stream",
     "text": [
      "test: 100%|██████████| 873/873 [01:01<00:00, 14.31it/s]\n"
     ]
    },
    {
     "name": "stdout",
     "output_type": "stream",
     "text": [
      "DR:  0.9878787878787879\n",
      "FPR:  0.6087570621468926\n",
      "\n",
      "epoch: 11, threshold: 0.2\n"
     ]
    },
    {
     "name": "stderr",
     "output_type": "stream",
     "text": [
      "test: 100%|██████████| 873/873 [01:11<00:00, 12.20it/s]\n"
     ]
    },
    {
     "name": "stdout",
     "output_type": "stream",
     "text": [
      "DR:  0.9696969696969697\n",
      "FPR:  0.4435028248587571\n",
      "\n",
      "epoch: 11, threshold: 0.30000000000000004\n"
     ]
    },
    {
     "name": "stderr",
     "output_type": "stream",
     "text": [
      "test: 100%|██████████| 873/873 [00:59<00:00, 14.68it/s]\n"
     ]
    },
    {
     "name": "stdout",
     "output_type": "stream",
     "text": [
      "DR:  0.9333333333333333\n",
      "FPR:  0.365819209039548\n",
      "\n",
      "Loads checkpoint by local backend from path: work_dirs/mask-rcnn_r50-caffe_fpn_ms-poly-1x_coco_je/epoch_12.pth\n",
      "epoch: 12, threshold: 0.1\n"
     ]
    },
    {
     "name": "stderr",
     "output_type": "stream",
     "text": [
      "test: 100%|██████████| 873/873 [01:08<00:00, 12.75it/s]\n"
     ]
    },
    {
     "name": "stdout",
     "output_type": "stream",
     "text": [
      "DR:  0.9818181818181818\n",
      "FPR:  0.5833333333333334\n",
      "\n",
      "epoch: 12, threshold: 0.2\n"
     ]
    },
    {
     "name": "stderr",
     "output_type": "stream",
     "text": [
      "test: 100%|██████████| 873/873 [00:59<00:00, 14.68it/s]\n"
     ]
    },
    {
     "name": "stdout",
     "output_type": "stream",
     "text": [
      "DR:  0.9636363636363636\n",
      "FPR:  0.4307909604519774\n",
      "\n",
      "epoch: 12, threshold: 0.30000000000000004\n"
     ]
    },
    {
     "name": "stderr",
     "output_type": "stream",
     "text": [
      "test: 100%|██████████| 873/873 [01:11<00:00, 12.26it/s]\n"
     ]
    },
    {
     "name": "stdout",
     "output_type": "stream",
     "text": [
      "DR:  0.9333333333333333\n",
      "FPR:  0.3502824858757062\n",
      "\n",
      "Loads checkpoint by local backend from path: work_dirs/mask-rcnn_r50-caffe_fpn_ms-poly-1x_coco_je/epoch_13.pth\n",
      "epoch: 13, threshold: 0.1\n"
     ]
    },
    {
     "name": "stderr",
     "output_type": "stream",
     "text": [
      "test: 100%|██████████| 873/873 [00:59<00:00, 14.66it/s]\n"
     ]
    },
    {
     "name": "stdout",
     "output_type": "stream",
     "text": [
      "DR:  0.9818181818181818\n",
      "FPR:  0.5790960451977402\n",
      "\n",
      "epoch: 13, threshold: 0.2\n"
     ]
    },
    {
     "name": "stderr",
     "output_type": "stream",
     "text": [
      "test: 100%|██████████| 873/873 [01:11<00:00, 12.18it/s]\n"
     ]
    },
    {
     "name": "stdout",
     "output_type": "stream",
     "text": [
      "DR:  0.9636363636363636\n",
      "FPR:  0.4322033898305085\n",
      "\n",
      "epoch: 13, threshold: 0.30000000000000004\n"
     ]
    },
    {
     "name": "stderr",
     "output_type": "stream",
     "text": [
      "test: 100%|██████████| 873/873 [00:59<00:00, 14.71it/s]\n"
     ]
    },
    {
     "name": "stdout",
     "output_type": "stream",
     "text": [
      "DR:  0.9272727272727272\n",
      "FPR:  0.3474576271186441\n",
      "\n",
      "Loads checkpoint by local backend from path: work_dirs/mask-rcnn_r50-caffe_fpn_ms-poly-1x_coco_je/epoch_14.pth\n",
      "epoch: 14, threshold: 0.1\n"
     ]
    },
    {
     "name": "stderr",
     "output_type": "stream",
     "text": [
      "test: 100%|██████████| 873/873 [01:12<00:00, 12.07it/s]\n"
     ]
    },
    {
     "name": "stdout",
     "output_type": "stream",
     "text": [
      "DR:  0.9818181818181818\n",
      "FPR:  0.5903954802259888\n",
      "\n",
      "epoch: 14, threshold: 0.2\n"
     ]
    },
    {
     "name": "stderr",
     "output_type": "stream",
     "text": [
      "test: 100%|██████████| 873/873 [01:00<00:00, 14.49it/s]\n"
     ]
    },
    {
     "name": "stdout",
     "output_type": "stream",
     "text": [
      "DR:  0.9636363636363636\n",
      "FPR:  0.4491525423728814\n",
      "\n",
      "epoch: 14, threshold: 0.30000000000000004\n"
     ]
    },
    {
     "name": "stderr",
     "output_type": "stream",
     "text": [
      "test: 100%|██████████| 873/873 [01:14<00:00, 11.76it/s]\n"
     ]
    },
    {
     "name": "stdout",
     "output_type": "stream",
     "text": [
      "DR:  0.9393939393939394\n",
      "FPR:  0.3516949152542373\n",
      "\n",
      "Loads checkpoint by local backend from path: work_dirs/mask-rcnn_r50-caffe_fpn_ms-poly-1x_coco_je/epoch_15.pth\n",
      "epoch: 15, threshold: 0.1\n"
     ]
    },
    {
     "name": "stderr",
     "output_type": "stream",
     "text": [
      "test: 100%|██████████| 873/873 [00:59<00:00, 14.65it/s]\n"
     ]
    },
    {
     "name": "stdout",
     "output_type": "stream",
     "text": [
      "DR:  0.9818181818181818\n",
      "FPR:  0.5833333333333334\n",
      "\n",
      "epoch: 15, threshold: 0.2\n"
     ]
    },
    {
     "name": "stderr",
     "output_type": "stream",
     "text": [
      "test: 100%|██████████| 873/873 [01:14<00:00, 11.79it/s]\n"
     ]
    },
    {
     "name": "stdout",
     "output_type": "stream",
     "text": [
      "DR:  0.9636363636363636\n",
      "FPR:  0.4392655367231638\n",
      "\n",
      "epoch: 15, threshold: 0.30000000000000004\n"
     ]
    },
    {
     "name": "stderr",
     "output_type": "stream",
     "text": [
      "test: 100%|██████████| 873/873 [00:59<00:00, 14.63it/s]\n"
     ]
    },
    {
     "name": "stdout",
     "output_type": "stream",
     "text": [
      "DR:  0.9454545454545454\n",
      "FPR:  0.3516949152542373\n",
      "\n",
      "Loads checkpoint by local backend from path: work_dirs/mask-rcnn_r50-caffe_fpn_ms-poly-1x_coco_je/epoch_16.pth\n",
      "epoch: 16, threshold: 0.1\n"
     ]
    },
    {
     "name": "stderr",
     "output_type": "stream",
     "text": [
      "test: 100%|██████████| 873/873 [01:13<00:00, 11.90it/s]\n"
     ]
    },
    {
     "name": "stdout",
     "output_type": "stream",
     "text": [
      "DR:  0.9818181818181818\n",
      "FPR:  0.5706214689265536\n",
      "\n",
      "epoch: 16, threshold: 0.2\n"
     ]
    },
    {
     "name": "stderr",
     "output_type": "stream",
     "text": [
      "test: 100%|██████████| 873/873 [00:57<00:00, 15.09it/s]\n"
     ]
    },
    {
     "name": "stdout",
     "output_type": "stream",
     "text": [
      "DR:  0.9636363636363636\n",
      "FPR:  0.4209039548022599\n",
      "\n",
      "epoch: 16, threshold: 0.30000000000000004\n"
     ]
    },
    {
     "name": "stderr",
     "output_type": "stream",
     "text": [
      "test: 100%|██████████| 873/873 [01:11<00:00, 12.29it/s]\n"
     ]
    },
    {
     "name": "stdout",
     "output_type": "stream",
     "text": [
      "DR:  0.9393939393939394\n",
      "FPR:  0.3446327683615819\n",
      "\n",
      "Loads checkpoint by local backend from path: work_dirs/mask-rcnn_r50-caffe_fpn_ms-poly-1x_coco_je/epoch_17.pth\n",
      "epoch: 17, threshold: 0.1\n"
     ]
    },
    {
     "name": "stderr",
     "output_type": "stream",
     "text": [
      "test: 100%|██████████| 873/873 [00:58<00:00, 14.86it/s]\n"
     ]
    },
    {
     "name": "stdout",
     "output_type": "stream",
     "text": [
      "DR:  0.9818181818181818\n",
      "FPR:  0.5847457627118644\n",
      "\n",
      "epoch: 17, threshold: 0.2\n"
     ]
    },
    {
     "name": "stderr",
     "output_type": "stream",
     "text": [
      "test: 100%|██████████| 873/873 [01:11<00:00, 12.21it/s]\n"
     ]
    },
    {
     "name": "stdout",
     "output_type": "stream",
     "text": [
      "DR:  0.9636363636363636\n",
      "FPR:  0.4364406779661017\n",
      "\n",
      "epoch: 17, threshold: 0.30000000000000004\n"
     ]
    },
    {
     "name": "stderr",
     "output_type": "stream",
     "text": [
      "test: 100%|██████████| 873/873 [01:01<00:00, 14.23it/s]\n"
     ]
    },
    {
     "name": "stdout",
     "output_type": "stream",
     "text": [
      "DR:  0.9454545454545454\n",
      "FPR:  0.3573446327683616\n",
      "\n",
      "Loads checkpoint by local backend from path: work_dirs/mask-rcnn_r50-caffe_fpn_ms-poly-1x_coco_je/epoch_18.pth\n",
      "epoch: 18, threshold: 0.1\n"
     ]
    },
    {
     "name": "stderr",
     "output_type": "stream",
     "text": [
      "test: 100%|██████████| 873/873 [01:07<00:00, 12.92it/s]\n"
     ]
    },
    {
     "name": "stdout",
     "output_type": "stream",
     "text": [
      "DR:  0.9818181818181818\n",
      "FPR:  0.5790960451977402\n",
      "\n",
      "epoch: 18, threshold: 0.2\n"
     ]
    },
    {
     "name": "stderr",
     "output_type": "stream",
     "text": [
      "test: 100%|██████████| 873/873 [01:03<00:00, 13.70it/s]\n"
     ]
    },
    {
     "name": "stdout",
     "output_type": "stream",
     "text": [
      "DR:  0.9636363636363636\n",
      "FPR:  0.4336158192090395\n",
      "\n",
      "epoch: 18, threshold: 0.30000000000000004\n"
     ]
    },
    {
     "name": "stderr",
     "output_type": "stream",
     "text": [
      "test: 100%|██████████| 873/873 [01:04<00:00, 13.44it/s]\n"
     ]
    },
    {
     "name": "stdout",
     "output_type": "stream",
     "text": [
      "DR:  0.9333333333333333\n",
      "FPR:  0.3432203389830508\n",
      "\n",
      "Loads checkpoint by local backend from path: work_dirs/mask-rcnn_r50-caffe_fpn_ms-poly-1x_coco_je/epoch_19.pth\n",
      "epoch: 19, threshold: 0.1\n"
     ]
    },
    {
     "name": "stderr",
     "output_type": "stream",
     "text": [
      "test: 100%|██████████| 873/873 [01:07<00:00, 12.99it/s]\n"
     ]
    },
    {
     "name": "stdout",
     "output_type": "stream",
     "text": [
      "DR:  0.9818181818181818\n",
      "FPR:  0.576271186440678\n",
      "\n",
      "epoch: 19, threshold: 0.2\n"
     ]
    },
    {
     "name": "stderr",
     "output_type": "stream",
     "text": [
      "test: 100%|██████████| 873/873 [01:01<00:00, 14.08it/s]\n"
     ]
    },
    {
     "name": "stdout",
     "output_type": "stream",
     "text": [
      "DR:  0.9575757575757575\n",
      "FPR:  0.4350282485875706\n",
      "\n",
      "epoch: 19, threshold: 0.30000000000000004\n"
     ]
    },
    {
     "name": "stderr",
     "output_type": "stream",
     "text": [
      "test: 100%|██████████| 873/873 [01:11<00:00, 12.22it/s]\n"
     ]
    },
    {
     "name": "stdout",
     "output_type": "stream",
     "text": [
      "DR:  0.9272727272727272\n",
      "FPR:  0.346045197740113\n",
      "\n",
      "Loads checkpoint by local backend from path: work_dirs/mask-rcnn_r50-caffe_fpn_ms-poly-1x_coco_je/epoch_20.pth\n",
      "epoch: 20, threshold: 0.1\n"
     ]
    },
    {
     "name": "stderr",
     "output_type": "stream",
     "text": [
      "test: 100%|██████████| 873/873 [00:58<00:00, 14.85it/s]\n"
     ]
    },
    {
     "name": "stdout",
     "output_type": "stream",
     "text": [
      "DR:  0.9818181818181818\n",
      "FPR:  0.576271186440678\n",
      "\n",
      "epoch: 20, threshold: 0.2\n"
     ]
    },
    {
     "name": "stderr",
     "output_type": "stream",
     "text": [
      "test: 100%|██████████| 873/873 [01:11<00:00, 12.23it/s]\n"
     ]
    },
    {
     "name": "stdout",
     "output_type": "stream",
     "text": [
      "DR:  0.9636363636363636\n",
      "FPR:  0.4293785310734463\n",
      "\n",
      "epoch: 20, threshold: 0.30000000000000004\n"
     ]
    },
    {
     "name": "stderr",
     "output_type": "stream",
     "text": [
      "test: 100%|██████████| 873/873 [01:02<00:00, 13.88it/s]\n"
     ]
    },
    {
     "name": "stdout",
     "output_type": "stream",
     "text": [
      "DR:  0.9393939393939394\n",
      "FPR:  0.346045197740113\n",
      "\n",
      "Loads checkpoint by local backend from path: work_dirs/mask-rcnn_r50-caffe_fpn_ms-poly-1x_coco_je/epoch_21.pth\n",
      "epoch: 21, threshold: 0.1\n"
     ]
    },
    {
     "name": "stderr",
     "output_type": "stream",
     "text": [
      "test: 100%|██████████| 873/873 [01:06<00:00, 13.20it/s]\n"
     ]
    },
    {
     "name": "stdout",
     "output_type": "stream",
     "text": [
      "DR:  0.9818181818181818\n",
      "FPR:  0.5649717514124294\n",
      "\n",
      "epoch: 21, threshold: 0.2\n"
     ]
    },
    {
     "name": "stderr",
     "output_type": "stream",
     "text": [
      "test: 100%|██████████| 873/873 [01:06<00:00, 13.17it/s]\n"
     ]
    },
    {
     "name": "stdout",
     "output_type": "stream",
     "text": [
      "DR:  0.9636363636363636\n",
      "FPR:  0.4251412429378531\n",
      "\n",
      "epoch: 21, threshold: 0.30000000000000004\n"
     ]
    },
    {
     "name": "stderr",
     "output_type": "stream",
     "text": [
      "test: 100%|██████████| 873/873 [01:03<00:00, 13.69it/s]\n"
     ]
    },
    {
     "name": "stdout",
     "output_type": "stream",
     "text": [
      "DR:  0.9272727272727272\n",
      "FPR:  0.3375706214689266\n",
      "\n",
      "Loads checkpoint by local backend from path: work_dirs/mask-rcnn_r50-caffe_fpn_ms-poly-1x_coco_je/epoch_22.pth\n",
      "epoch: 22, threshold: 0.1\n"
     ]
    },
    {
     "name": "stderr",
     "output_type": "stream",
     "text": [
      "test: 100%|██████████| 873/873 [01:08<00:00, 12.70it/s]\n"
     ]
    },
    {
     "name": "stdout",
     "output_type": "stream",
     "text": [
      "DR:  0.9818181818181818\n",
      "FPR:  0.5875706214689266\n",
      "\n",
      "epoch: 22, threshold: 0.2\n"
     ]
    },
    {
     "name": "stderr",
     "output_type": "stream",
     "text": [
      "test: 100%|██████████| 873/873 [01:05<00:00, 13.28it/s]\n"
     ]
    },
    {
     "name": "stdout",
     "output_type": "stream",
     "text": [
      "DR:  0.9636363636363636\n",
      "FPR:  0.442090395480226\n",
      "\n",
      "epoch: 22, threshold: 0.30000000000000004\n"
     ]
    },
    {
     "name": "stderr",
     "output_type": "stream",
     "text": [
      "test: 100%|██████████| 873/873 [01:08<00:00, 12.71it/s]\n"
     ]
    },
    {
     "name": "stdout",
     "output_type": "stream",
     "text": [
      "DR:  0.9515151515151515\n",
      "FPR:  0.3531073446327684\n",
      "\n",
      "epoch: 22, threshold: 0.4\n"
     ]
    },
    {
     "name": "stderr",
     "output_type": "stream",
     "text": [
      "test: 100%|██████████| 873/873 [01:05<00:00, 13.40it/s]\n"
     ]
    },
    {
     "name": "stdout",
     "output_type": "stream",
     "text": [
      "DR:  0.9030303030303031\n",
      "FPR:  0.2867231638418079\n",
      "\n",
      "Loads checkpoint by local backend from path: work_dirs/mask-rcnn_r50-caffe_fpn_ms-poly-1x_coco_je/epoch_23.pth\n",
      "epoch: 23, threshold: 0.1\n"
     ]
    },
    {
     "name": "stderr",
     "output_type": "stream",
     "text": [
      "test: 100%|██████████| 873/873 [01:14<00:00, 11.73it/s]\n"
     ]
    },
    {
     "name": "stdout",
     "output_type": "stream",
     "text": [
      "DR:  0.9818181818181818\n",
      "FPR:  0.5635593220338984\n",
      "\n",
      "epoch: 23, threshold: 0.2\n"
     ]
    },
    {
     "name": "stderr",
     "output_type": "stream",
     "text": [
      "test: 100%|██████████| 873/873 [01:06<00:00, 13.17it/s]\n"
     ]
    },
    {
     "name": "stdout",
     "output_type": "stream",
     "text": [
      "DR:  0.9696969696969697\n",
      "FPR:  0.422316384180791\n",
      "\n",
      "epoch: 23, threshold: 0.30000000000000004\n"
     ]
    },
    {
     "name": "stderr",
     "output_type": "stream",
     "text": [
      "test: 100%|██████████| 873/873 [01:15<00:00, 11.57it/s]\n"
     ]
    },
    {
     "name": "stdout",
     "output_type": "stream",
     "text": [
      "DR:  0.9393939393939394\n",
      "FPR:  0.3432203389830508\n",
      "\n",
      "Loads checkpoint by local backend from path: work_dirs/mask-rcnn_r50-caffe_fpn_ms-poly-1x_coco_je/epoch_24.pth\n",
      "epoch: 24, threshold: 0.1\n"
     ]
    },
    {
     "name": "stderr",
     "output_type": "stream",
     "text": [
      "test: 100%|██████████| 873/873 [01:07<00:00, 12.90it/s]\n"
     ]
    },
    {
     "name": "stdout",
     "output_type": "stream",
     "text": [
      "DR:  0.9818181818181818\n",
      "FPR:  0.5819209039548022\n",
      "\n",
      "epoch: 24, threshold: 0.2\n"
     ]
    },
    {
     "name": "stderr",
     "output_type": "stream",
     "text": [
      "test: 100%|██████████| 873/873 [01:15<00:00, 11.58it/s]\n"
     ]
    },
    {
     "name": "stdout",
     "output_type": "stream",
     "text": [
      "DR:  0.9696969696969697\n",
      "FPR:  0.442090395480226\n",
      "\n",
      "epoch: 24, threshold: 0.30000000000000004\n"
     ]
    },
    {
     "name": "stderr",
     "output_type": "stream",
     "text": [
      "test: 100%|██████████| 873/873 [01:11<00:00, 12.16it/s]\n"
     ]
    },
    {
     "name": "stdout",
     "output_type": "stream",
     "text": [
      "DR:  0.9393939393939394\n",
      "FPR:  0.3559322033898305\n",
      "\n",
      "Loads checkpoint by local backend from path: work_dirs/mask-rcnn_r50-caffe_fpn_ms-poly-1x_coco_je/epoch_25.pth\n",
      "epoch: 25, threshold: 0.1\n"
     ]
    },
    {
     "name": "stderr",
     "output_type": "stream",
     "text": [
      "test: 100%|██████████| 873/873 [01:12<00:00, 11.98it/s]\n"
     ]
    },
    {
     "name": "stdout",
     "output_type": "stream",
     "text": [
      "DR:  0.9818181818181818\n",
      "FPR:  0.5706214689265536\n",
      "\n",
      "epoch: 25, threshold: 0.2\n"
     ]
    },
    {
     "name": "stderr",
     "output_type": "stream",
     "text": [
      "test: 100%|██████████| 873/873 [01:13<00:00, 11.89it/s]\n"
     ]
    },
    {
     "name": "stdout",
     "output_type": "stream",
     "text": [
      "DR:  0.9696969696969697\n",
      "FPR:  0.4322033898305085\n",
      "\n",
      "epoch: 25, threshold: 0.30000000000000004\n"
     ]
    },
    {
     "name": "stderr",
     "output_type": "stream",
     "text": [
      "test: 100%|██████████| 873/873 [01:05<00:00, 13.42it/s]\n"
     ]
    },
    {
     "name": "stdout",
     "output_type": "stream",
     "text": [
      "DR:  0.9393939393939394\n",
      "FPR:  0.3418079096045198\n",
      "\n",
      "Loads checkpoint by local backend from path: work_dirs/mask-rcnn_r50-caffe_fpn_ms-poly-1x_coco_je/epoch_26.pth\n",
      "epoch: 26, threshold: 0.1\n"
     ]
    },
    {
     "name": "stderr",
     "output_type": "stream",
     "text": [
      "test: 100%|██████████| 873/873 [01:09<00:00, 12.51it/s]\n"
     ]
    },
    {
     "name": "stdout",
     "output_type": "stream",
     "text": [
      "DR:  0.9818181818181818\n",
      "FPR:  0.5833333333333334\n",
      "\n",
      "epoch: 26, threshold: 0.2\n"
     ]
    },
    {
     "name": "stderr",
     "output_type": "stream",
     "text": [
      "test: 100%|██████████| 873/873 [01:05<00:00, 13.23it/s]\n"
     ]
    },
    {
     "name": "stdout",
     "output_type": "stream",
     "text": [
      "DR:  0.9636363636363636\n",
      "FPR:  0.442090395480226\n",
      "\n",
      "epoch: 26, threshold: 0.30000000000000004\n"
     ]
    },
    {
     "name": "stderr",
     "output_type": "stream",
     "text": [
      "test: 100%|██████████| 873/873 [01:15<00:00, 11.60it/s]\n"
     ]
    },
    {
     "name": "stdout",
     "output_type": "stream",
     "text": [
      "DR:  0.9454545454545454\n",
      "FPR:  0.3573446327683616\n",
      "\n",
      "Loads checkpoint by local backend from path: work_dirs/mask-rcnn_r50-caffe_fpn_ms-poly-1x_coco_je/epoch_27.pth\n",
      "epoch: 27, threshold: 0.1\n"
     ]
    },
    {
     "name": "stderr",
     "output_type": "stream",
     "text": [
      "test: 100%|██████████| 873/873 [01:05<00:00, 13.30it/s]\n"
     ]
    },
    {
     "name": "stdout",
     "output_type": "stream",
     "text": [
      "DR:  0.9878787878787879\n",
      "FPR:  0.5790960451977402\n",
      "\n",
      "epoch: 27, threshold: 0.2\n"
     ]
    },
    {
     "name": "stderr",
     "output_type": "stream",
     "text": [
      "test: 100%|██████████| 873/873 [01:14<00:00, 11.68it/s]\n"
     ]
    },
    {
     "name": "stdout",
     "output_type": "stream",
     "text": [
      "DR:  0.9696969696969697\n",
      "FPR:  0.4279661016949153\n",
      "\n",
      "epoch: 27, threshold: 0.30000000000000004\n"
     ]
    },
    {
     "name": "stderr",
     "output_type": "stream",
     "text": [
      "test: 100%|██████████| 873/873 [01:05<00:00, 13.29it/s]\n"
     ]
    },
    {
     "name": "stdout",
     "output_type": "stream",
     "text": [
      "DR:  0.9333333333333333\n",
      "FPR:  0.3545197740112994\n",
      "\n",
      "Loads checkpoint by local backend from path: work_dirs/mask-rcnn_r50-caffe_fpn_ms-poly-1x_coco_je/epoch_28.pth\n",
      "epoch: 28, threshold: 0.1\n"
     ]
    },
    {
     "name": "stderr",
     "output_type": "stream",
     "text": [
      "test: 100%|██████████| 873/873 [01:10<00:00, 12.39it/s]\n"
     ]
    },
    {
     "name": "stdout",
     "output_type": "stream",
     "text": [
      "DR:  0.9818181818181818\n",
      "FPR:  0.557909604519774\n",
      "\n",
      "epoch: 28, threshold: 0.2\n"
     ]
    },
    {
     "name": "stderr",
     "output_type": "stream",
     "text": [
      "test: 100%|██████████| 873/873 [01:07<00:00, 12.98it/s]\n"
     ]
    },
    {
     "name": "stdout",
     "output_type": "stream",
     "text": [
      "DR:  0.9575757575757575\n",
      "FPR:  0.4293785310734463\n",
      "\n",
      "epoch: 28, threshold: 0.30000000000000004\n"
     ]
    },
    {
     "name": "stderr",
     "output_type": "stream",
     "text": [
      "test: 100%|██████████| 873/873 [01:05<00:00, 13.27it/s]\n"
     ]
    },
    {
     "name": "stdout",
     "output_type": "stream",
     "text": [
      "DR:  0.9333333333333333\n",
      "FPR:  0.3516949152542373\n",
      "\n",
      "Loads checkpoint by local backend from path: work_dirs/mask-rcnn_r50-caffe_fpn_ms-poly-1x_coco_je/epoch_29.pth\n",
      "epoch: 29, threshold: 0.1\n"
     ]
    },
    {
     "name": "stderr",
     "output_type": "stream",
     "text": [
      "test: 100%|██████████| 873/873 [01:12<00:00, 11.97it/s]\n"
     ]
    },
    {
     "name": "stdout",
     "output_type": "stream",
     "text": [
      "DR:  0.9878787878787879\n",
      "FPR:  0.5734463276836158\n",
      "\n",
      "epoch: 29, threshold: 0.2\n"
     ]
    },
    {
     "name": "stderr",
     "output_type": "stream",
     "text": [
      "test: 100%|██████████| 873/873 [01:02<00:00, 14.06it/s]\n"
     ]
    },
    {
     "name": "stdout",
     "output_type": "stream",
     "text": [
      "DR:  0.9696969696969697\n",
      "FPR:  0.4279661016949153\n",
      "\n",
      "epoch: 29, threshold: 0.30000000000000004\n"
     ]
    },
    {
     "name": "stderr",
     "output_type": "stream",
     "text": [
      "test: 100%|██████████| 873/873 [01:13<00:00, 11.89it/s]\n"
     ]
    },
    {
     "name": "stdout",
     "output_type": "stream",
     "text": [
      "DR:  0.9333333333333333\n",
      "FPR:  0.3531073446327684\n",
      "\n",
      "Loads checkpoint by local backend from path: work_dirs/mask-rcnn_r50-caffe_fpn_ms-poly-1x_coco_je/epoch_30.pth\n",
      "epoch: 30, threshold: 0.1\n"
     ]
    },
    {
     "name": "stderr",
     "output_type": "stream",
     "text": [
      "test: 100%|██████████| 873/873 [01:01<00:00, 14.14it/s]\n"
     ]
    },
    {
     "name": "stdout",
     "output_type": "stream",
     "text": [
      "DR:  0.9818181818181818\n",
      "FPR:  0.5677966101694916\n",
      "\n",
      "epoch: 30, threshold: 0.2\n"
     ]
    },
    {
     "name": "stderr",
     "output_type": "stream",
     "text": [
      "test: 100%|██████████| 873/873 [01:10<00:00, 12.43it/s]\n"
     ]
    },
    {
     "name": "stdout",
     "output_type": "stream",
     "text": [
      "DR:  0.9636363636363636\n",
      "FPR:  0.423728813559322\n",
      "\n",
      "epoch: 30, threshold: 0.30000000000000004\n"
     ]
    },
    {
     "name": "stderr",
     "output_type": "stream",
     "text": [
      "test: 100%|██████████| 873/873 [01:04<00:00, 13.48it/s]"
     ]
    },
    {
     "name": "stdout",
     "output_type": "stream",
     "text": [
      "DR:  0.9333333333333333\n",
      "FPR:  0.3418079096045198\n",
      "\n"
     ]
    },
    {
     "name": "stderr",
     "output_type": "stream",
     "text": [
      "\n"
     ]
    }
   ],
   "source": [
    "# Specify the path to model config and checkpoint file\n",
    "config_file = 'configs/je/mask-rcnn_r50-caffe_fpn_ms-poly-1x_coco_je.py'\n",
    "#checkpoint_file = 'work_dirs/mask-rcnn_r50-caffe_fpn_ms-poly-1x_coco_je/epoch_1.pth'\n",
    "test_path = '/home/yaniv.sheinfeld/data/TEST_SET_6.6.6/201/images'\n",
    "#build the model from a config file and a checkpoint file\n",
    "#model = init_detector(config_file, checkpoint_file, device='cuda:0')\n",
    "\n",
    "imgs_list = []\n",
    "for im in os.listdir(test_path):\n",
    "    #read image with cv2\n",
    "    im_path = os.path.join(test_path, im)\n",
    "    img = cv2.imread(im_path, cv2.IMREAD_COLOR)\n",
    "    #append image to list\n",
    "    imgs_list.append(img)\n",
    "\n",
    "#init visualizer\n",
    "#visualizer = VISUALIZERS.build(model.cfg.visualizer)\n",
    "\n",
    "#the dataset_meta is loaded from the checkpoint file and then pass to the model in init_detector\n",
    "#visualizer.dataset_meta = model.dataset_meta\n",
    "\n",
    "#im_path = '/home/yaniv.sheinfeld/data/TEST_SET_6.6.6/201/images/20221124_082931_791875_201_ng.jpg'\n",
    "#result = inference_detector(model, im_path)\n",
    "thresholds = np.arange(0.1, 1.0, 0.1)\n",
    "#for each threshold, calculate Detection Rate and False Positive Rate on all images in test_path\n",
    "for epoch in range(6,31):\n",
    "    checkpoint_file = f'work_dirs/mask-rcnn_r50-caffe_fpn_ms-poly-1x_coco_je/epoch_{epoch}.pth'\n",
    "    model = init_detector(config_file, checkpoint_file, device='cuda:0')\n",
    "    for threshold in thresholds:\n",
    "        print(f'epoch: {epoch}, threshold: {threshold}')\n",
    "        #init counters\n",
    "        TP = 0\n",
    "        FP = 0\n",
    "        TN = 0\n",
    "        FN = 0\n",
    "        #for each image in test_path\n",
    "        for im in tqdm(os.listdir(test_path), desc='test'):\n",
    "            #inference\n",
    "            im_path = os.path.join(test_path, im)\n",
    "            results = inference_detector(model, im_path)\n",
    "            pred = any(result.pred_instances.scores > threshold)\n",
    "            #get the ground truth from the image path\n",
    "            gt = get_gt(im_path)\n",
    "            #calculate the number of true positives, false positives and false negatives\n",
    "            tp, fp, tn, fn = get_tp_fp_tn_fn(pred, gt)\n",
    "            TP += tp\n",
    "            FP += fp\n",
    "            TN += tn\n",
    "            FN += fn\n",
    "        #calculate Detection Rate and False Positive Rate\n",
    "        DR = TP / (TP + FN)\n",
    "        FPR = FP / (FP + TN)\n",
    "        print('DR: ', DR)\n",
    "        print('FPR: ', FPR)\n",
    "        print('')\n",
    "        if DR < 0.95:\n",
    "            break\n"
   ]
  }
 ],
 "metadata": {
  "kernelspec": {
   "display_name": "venv_mm",
   "language": "python",
   "name": "python3"
  },
  "language_info": {
   "codemirror_mode": {
    "name": "ipython",
    "version": 3
   },
   "file_extension": ".py",
   "mimetype": "text/x-python",
   "name": "python",
   "nbconvert_exporter": "python",
   "pygments_lexer": "ipython3",
   "version": "3.9.4"
  },
  "orig_nbformat": 4
 },
 "nbformat": 4,
 "nbformat_minor": 2
}
